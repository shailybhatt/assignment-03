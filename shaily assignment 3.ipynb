{
 "cells": [
  {
   "cell_type": "code",
   "execution_count": 1,
   "id": "c7252060",
   "metadata": {},
   "outputs": [
    {
     "name": "stdout",
     "output_type": "stream",
     "text": [
      "the original string is : 1234abcd\n",
      "the reversed string is : dcba4321\n"
     ]
    }
   ],
   "source": [
    "# python program to reverse a string\n",
    "\n",
    "def reverse(string) :\n",
    "    string = list(string)\n",
    "    string.reverse()\n",
    "    return \"\" .join(string)\n",
    "s = \"1234abcd\"\n",
    "print(\"the original string is :\" ,s)\n",
    "print(\"the reversed string is :\" ,reverse(s))"
   ]
  },
  {
   "cell_type": "code",
   "execution_count": 4,
   "id": "70855c54",
   "metadata": {},
   "outputs": [
    {
     "name": "stdout",
     "output_type": "stream",
     "text": [
      "enter string :The quick Brow Fox\n",
      "the number of lowercase letter is : 12\n",
      "the number of uppercase letter is : 3\n"
     ]
    }
   ],
   "source": [
    "# python program that accepts a string and calculate the number of uppercase letters and lowercase letters\n",
    "\n",
    "string = input(\"enter string :\")\n",
    "count1 = 0\n",
    "count2 = 0\n",
    "for i in string:\n",
    "    if(i.islower()) :\n",
    "        count1 = count1 + 1\n",
    "    elif(i.isupper()) :\n",
    "        count2 = count2 + 1\n",
    "print(\"the number of lowercase letter is :\" ,count1)\n",
    "print(\"the number of uppercase letter is :\" ,count2)"
   ]
  },
  {
   "cell_type": "code",
   "execution_count": 5,
   "id": "a68bbdfe",
   "metadata": {},
   "outputs": [
    {
     "name": "stdout",
     "output_type": "stream",
     "text": [
      "20\n"
     ]
    }
   ],
   "source": [
    "# python function to sum all the numbers in a list\n",
    "\n",
    "def add (a,b,c,d,e) :\n",
    "    return a+b+c+d+e\n",
    "print(add(8,2,3,0,7))"
   ]
  },
  {
   "cell_type": "code",
   "execution_count": null,
   "id": "e8f89001",
   "metadata": {},
   "outputs": [],
   "source": []
  }
 ],
 "metadata": {
  "kernelspec": {
   "display_name": "Python 3 (ipykernel)",
   "language": "python",
   "name": "python3"
  },
  "language_info": {
   "codemirror_mode": {
    "name": "ipython",
    "version": 3
   },
   "file_extension": ".py",
   "mimetype": "text/x-python",
   "name": "python",
   "nbconvert_exporter": "python",
   "pygments_lexer": "ipython3",
   "version": "3.9.13"
  }
 },
 "nbformat": 4,
 "nbformat_minor": 5
}
